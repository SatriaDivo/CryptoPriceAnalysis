{
 "cells": [
  {
   "cell_type": "markdown",
   "metadata": {},
   "source": [
    "## Import Libraries"
   ]
  },
  {
   "cell_type": "code",
   "execution_count": 1,
   "metadata": {},
   "outputs": [
    {
     "ename": "ModuleNotFoundError",
     "evalue": "No module named 'yfinance'",
     "output_type": "error",
     "traceback": [
      "\u001b[1;31m---------------------------------------------------------------------------\u001b[0m",
      "\u001b[1;31mModuleNotFoundError\u001b[0m                       Traceback (most recent call last)",
      "Cell \u001b[1;32mIn[1], line 4\u001b[0m\n\u001b[0;32m      2\u001b[0m \u001b[38;5;28;01mimport\u001b[39;00m \u001b[38;5;21;01mpandas\u001b[39;00m \u001b[38;5;28;01mas\u001b[39;00m \u001b[38;5;21;01mpd\u001b[39;00m\n\u001b[0;32m      3\u001b[0m \u001b[38;5;28;01mimport\u001b[39;00m \u001b[38;5;21;01mmatplotlib\u001b[39;00m\u001b[38;5;21;01m.\u001b[39;00m\u001b[38;5;21;01mpyplot\u001b[39;00m \u001b[38;5;28;01mas\u001b[39;00m \u001b[38;5;21;01mplt\u001b[39;00m\n\u001b[1;32m----> 4\u001b[0m \u001b[38;5;28;01mimport\u001b[39;00m \u001b[38;5;21;01myfinance\u001b[39;00m \u001b[38;5;28;01mas\u001b[39;00m \u001b[38;5;21;01myf\u001b[39;00m\n\u001b[0;32m      5\u001b[0m \u001b[38;5;28;01mfrom\u001b[39;00m \u001b[38;5;21;01msklearn\u001b[39;00m\u001b[38;5;21;01m.\u001b[39;00m\u001b[38;5;21;01mpreprocessing\u001b[39;00m \u001b[38;5;28;01mimport\u001b[39;00m MinMaxScaler\n\u001b[0;32m      6\u001b[0m \u001b[38;5;28;01mfrom\u001b[39;00m \u001b[38;5;21;01mtensorflow\u001b[39;00m\u001b[38;5;21;01m.\u001b[39;00m\u001b[38;5;21;01mkeras\u001b[39;00m\u001b[38;5;21;01m.\u001b[39;00m\u001b[38;5;21;01mmodels\u001b[39;00m \u001b[38;5;28;01mimport\u001b[39;00m Sequential\n",
      "\u001b[1;31mModuleNotFoundError\u001b[0m: No module named 'yfinance'"
     ]
    }
   ],
   "source": [
    "import numpy as np\n",
    "import pandas as pd\n",
    "import matplotlib.pyplot as plt\n",
    "import yfinance as yf\n",
    "from sklearn.preprocessing import MinMaxScaler\n",
    "from tensorflow.keras.models import Sequential\n",
    "from tensorflow.keras.layers import LSTM, Dense"
   ]
  },
  {
   "cell_type": "markdown",
   "metadata": {},
   "source": [
    "## 1. Mengambil Data Historis PEPE (PEPE-USD) - Pastikan data tersedia"
   ]
  },
  {
   "cell_type": "code",
   "execution_count": 21,
   "metadata": {},
   "outputs": [
    {
     "name": "stderr",
     "output_type": "stream",
     "text": [
      "[*********************100%***********************]  1 of 1 completed\n"
     ]
    },
    {
     "data": {
      "text/html": [
       "<div>\n",
       "<style scoped>\n",
       "    .dataframe tbody tr th:only-of-type {\n",
       "        vertical-align: middle;\n",
       "    }\n",
       "\n",
       "    .dataframe tbody tr th {\n",
       "        vertical-align: top;\n",
       "    }\n",
       "\n",
       "    .dataframe thead tr th {\n",
       "        text-align: left;\n",
       "    }\n",
       "\n",
       "    .dataframe thead tr:last-of-type th {\n",
       "        text-align: right;\n",
       "    }\n",
       "</style>\n",
       "<table border=\"1\" class=\"dataframe\">\n",
       "  <thead>\n",
       "    <tr>\n",
       "      <th>Price</th>\n",
       "      <th>Adj Close</th>\n",
       "      <th>Close</th>\n",
       "      <th>High</th>\n",
       "      <th>Low</th>\n",
       "      <th>Open</th>\n",
       "      <th>Volume</th>\n",
       "    </tr>\n",
       "    <tr>\n",
       "      <th>Ticker</th>\n",
       "      <th>PEPE-USD</th>\n",
       "      <th>PEPE-USD</th>\n",
       "      <th>PEPE-USD</th>\n",
       "      <th>PEPE-USD</th>\n",
       "      <th>PEPE-USD</th>\n",
       "      <th>PEPE-USD</th>\n",
       "    </tr>\n",
       "    <tr>\n",
       "      <th>Date</th>\n",
       "      <th></th>\n",
       "      <th></th>\n",
       "      <th></th>\n",
       "      <th></th>\n",
       "      <th></th>\n",
       "      <th></th>\n",
       "    </tr>\n",
       "  </thead>\n",
       "  <tbody>\n",
       "    <tr>\n",
       "      <th>2022-08-15</th>\n",
       "      <td>0.000269</td>\n",
       "      <td>0.000269</td>\n",
       "      <td>0.000441</td>\n",
       "      <td>0.000198</td>\n",
       "      <td>0.000376</td>\n",
       "      <td>620626</td>\n",
       "    </tr>\n",
       "    <tr>\n",
       "      <th>2022-08-16</th>\n",
       "      <td>0.000120</td>\n",
       "      <td>0.000120</td>\n",
       "      <td>0.000291</td>\n",
       "      <td>0.000102</td>\n",
       "      <td>0.000269</td>\n",
       "      <td>410426</td>\n",
       "    </tr>\n",
       "    <tr>\n",
       "      <th>2022-08-17</th>\n",
       "      <td>0.000065</td>\n",
       "      <td>0.000065</td>\n",
       "      <td>0.000142</td>\n",
       "      <td>0.000065</td>\n",
       "      <td>0.000120</td>\n",
       "      <td>229177</td>\n",
       "    </tr>\n",
       "    <tr>\n",
       "      <th>2022-08-18</th>\n",
       "      <td>0.000057</td>\n",
       "      <td>0.000057</td>\n",
       "      <td>0.000091</td>\n",
       "      <td>0.000050</td>\n",
       "      <td>0.000065</td>\n",
       "      <td>176171</td>\n",
       "    </tr>\n",
       "    <tr>\n",
       "      <th>2022-08-19</th>\n",
       "      <td>0.000033</td>\n",
       "      <td>0.000033</td>\n",
       "      <td>0.000058</td>\n",
       "      <td>0.000033</td>\n",
       "      <td>0.000057</td>\n",
       "      <td>107870</td>\n",
       "    </tr>\n",
       "  </tbody>\n",
       "</table>\n",
       "</div>"
      ],
      "text/plain": [
       "Price      Adj Close     Close      High       Low      Open   Volume\n",
       "Ticker      PEPE-USD  PEPE-USD  PEPE-USD  PEPE-USD  PEPE-USD PEPE-USD\n",
       "Date                                                                 \n",
       "2022-08-15  0.000269  0.000269  0.000441  0.000198  0.000376   620626\n",
       "2022-08-16  0.000120  0.000120  0.000291  0.000102  0.000269   410426\n",
       "2022-08-17  0.000065  0.000065  0.000142  0.000065  0.000120   229177\n",
       "2022-08-18  0.000057  0.000057  0.000091  0.000050  0.000065   176171\n",
       "2022-08-19  0.000033  0.000033  0.000058  0.000033  0.000057   107870"
      ]
     },
     "execution_count": 21,
     "metadata": {},
     "output_type": "execute_result"
    }
   ],
   "source": [
    "data = yf.download('PEPE-USD', start='2021-01-01', end='2024-12-11')\n",
    "\n",
    "# Menampilkan data\n",
    "data.head()"
   ]
  },
  {
   "cell_type": "markdown",
   "metadata": {},
   "source": [
    "## 2. Preprocessing Data"
   ]
  },
  {
   "cell_type": "code",
   "execution_count": 27,
   "metadata": {},
   "outputs": [
    {
     "name": "stdout",
     "output_type": "stream",
     "text": [
      "x_train shape: (34, 60)\n",
      "x_test shape: (0,)\n",
      "Data latih atau data uji tidak memiliki cukup data untuk reshaping.\n"
     ]
    }
   ],
   "source": [
    "data_close = data['Close'].values\n",
    "data_close = data_close.reshape(-1, 1)\n",
    "\n",
    "# Normalisasi data\n",
    "scaler = MinMaxScaler(feature_range=(0, 1))\n",
    "data_scaled = scaler.fit_transform(data_close)\n",
    "\n",
    "# Membagi data menjadi data latih dan data uji\n",
    "train_size = int(len(data_scaled) * 0.8)\n",
    "train_data, test_data = data_scaled[:train_size], data_scaled[train_size:]\n",
    "\n",
    "# Fungsi untuk membuat dataset dengan langkah waktu tertentu\n",
    "def create_dataset(data, time_step=60):\n",
    "    x, y = [], []\n",
    "    for i in range(len(data) - time_step - 1):\n",
    "        x.append(data[i:(i + time_step), 0])\n",
    "        y.append(data[i + time_step, 0])\n",
    "    return np.array(x), np.array(y)\n",
    "\n",
    "# Membuat dataset latih dan uji\n",
    "time_step = 60\n",
    "x_train, y_train = create_dataset(train_data, time_step)\n",
    "x_test, y_test = create_dataset(test_data, time_step)\n",
    "\n",
    "# Memeriksa ukuran x_train dan x_test sebelum reshaping\n",
    "print(f\"x_train shape: {x_train.shape}\")\n",
    "print(f\"x_test shape: {x_test.shape}\")\n",
    "\n",
    "# Jika x_train atau x_test kosong atau tidak sesuai, perbaiki atau berikan pesan error\n",
    "if x_train.shape[0] == 0 or x_test.shape[0] == 0:\n",
    "    print(\"Data latih atau data uji tidak memiliki cukup data untuk reshaping.\")\n",
    "else:\n",
    "    # Reshaping data untuk input ke LSTM (batch_size, time_steps, features)\n",
    "    x_train = x_train.reshape(x_train.shape[0], x_train.shape[1], 1)\n",
    "    x_test = x_test.reshape(x_test.shape[0], x_test.shape[1], 1)\n",
    "\n",
    "    print(f\"Reshaped x_train shape: {x_train.shape}\")\n",
    "    print(f\"Reshaped x_test shape: {x_test.shape}\")"
   ]
  },
  {
   "cell_type": "markdown",
   "metadata": {},
   "source": [
    "## 3. Membangun Model LSTM"
   ]
  },
  {
   "cell_type": "code",
   "execution_count": 28,
   "metadata": {},
   "outputs": [],
   "source": [
    "model = Sequential()\n",
    "model.add(LSTM(units=50, return_sequences=True, input_shape=(x_train.shape[1], 1)))\n",
    "model.add(LSTM(units=50, return_sequences=False))\n",
    "model.add(Dense(units=1))"
   ]
  },
  {
   "cell_type": "markdown",
   "metadata": {},
   "source": [
    "## 4. Kompilasi Model"
   ]
  },
  {
   "cell_type": "code",
   "execution_count": 29,
   "metadata": {},
   "outputs": [],
   "source": [
    "model.compile(optimizer='adam', loss='mean_squared_error')"
   ]
  },
  {
   "cell_type": "markdown",
   "metadata": {},
   "source": [
    "## 5. Melatih Model"
   ]
  },
  {
   "cell_type": "code",
   "execution_count": 30,
   "metadata": {},
   "outputs": [
    {
     "name": "stdout",
     "output_type": "stream",
     "text": [
      "Epoch 1/10\n",
      "2/2 [==============================] - 2s 51ms/step - loss: 1.1255e-04\n",
      "Epoch 2/10\n",
      "2/2 [==============================] - 0s 29ms/step - loss: 2.8622e-05\n",
      "Epoch 3/10\n",
      "2/2 [==============================] - 0s 32ms/step - loss: 1.5194e-05\n",
      "Epoch 4/10\n",
      "2/2 [==============================] - 0s 32ms/step - loss: 1.3703e-05\n",
      "Epoch 5/10\n",
      "2/2 [==============================] - 0s 28ms/step - loss: 1.1086e-05\n",
      "Epoch 6/10\n",
      "2/2 [==============================] - 0s 28ms/step - loss: 1.5793e-05\n",
      "Epoch 7/10\n",
      "2/2 [==============================] - 0s 31ms/step - loss: 1.2700e-05\n",
      "Epoch 8/10\n",
      "2/2 [==============================] - 0s 29ms/step - loss: 1.0556e-05\n",
      "Epoch 9/10\n",
      "2/2 [==============================] - 0s 29ms/step - loss: 1.1076e-05\n",
      "Epoch 10/10\n",
      "2/2 [==============================] - 0s 30ms/step - loss: 1.0425e-05\n"
     ]
    }
   ],
   "source": [
    "history = model.fit(x_train, y_train, epochs=10, batch_size=32, validation_data=(x_test, y_test))"
   ]
  },
  {
   "cell_type": "markdown",
   "metadata": {},
   "source": [
    "## 6. Prediksi Harga PEPE ke Depan (30 Hari)"
   ]
  },
  {
   "cell_type": "code",
   "execution_count": 31,
   "metadata": {},
   "outputs": [
    {
     "name": "stdout",
     "output_type": "stream",
     "text": [
      "1/1 [==============================] - 0s 396ms/step\n",
      "1/1 [==============================] - 0s 16ms/step\n",
      "1/1 [==============================] - 0s 18ms/step\n",
      "1/1 [==============================] - 0s 15ms/step\n",
      "1/1 [==============================] - 0s 17ms/step\n",
      "1/1 [==============================] - 0s 16ms/step\n",
      "1/1 [==============================] - 0s 16ms/step\n",
      "1/1 [==============================] - 0s 30ms/step\n",
      "1/1 [==============================] - 0s 24ms/step\n",
      "1/1 [==============================] - 0s 17ms/step\n",
      "1/1 [==============================] - 0s 15ms/step\n",
      "1/1 [==============================] - 0s 17ms/step\n",
      "1/1 [==============================] - 0s 16ms/step\n",
      "1/1 [==============================] - 0s 18ms/step\n",
      "1/1 [==============================] - 0s 17ms/step\n",
      "1/1 [==============================] - 0s 17ms/step\n",
      "1/1 [==============================] - 0s 18ms/step\n",
      "1/1 [==============================] - 0s 15ms/step\n",
      "1/1 [==============================] - 0s 18ms/step\n",
      "1/1 [==============================] - 0s 18ms/step\n",
      "1/1 [==============================] - 0s 17ms/step\n",
      "1/1 [==============================] - 0s 17ms/step\n",
      "1/1 [==============================] - 0s 16ms/step\n",
      "1/1 [==============================] - 0s 16ms/step\n",
      "1/1 [==============================] - 0s 20ms/step\n",
      "1/1 [==============================] - 0s 17ms/step\n",
      "1/1 [==============================] - 0s 17ms/step\n",
      "1/1 [==============================] - 0s 16ms/step\n",
      "1/1 [==============================] - 0s 17ms/step\n",
      "1/1 [==============================] - 0s 17ms/step\n"
     ]
    },
    {
     "data": {
      "image/png": "[encoded data removed]",
      "text/plain": [
       "<Figure size 1000x600 with 1 Axes>"
      ]
     },
     "metadata": {},
     "output_type": "display_data"
    },
    {
     "name": "stdout",
     "output_type": "stream",
     "text": [
      "Prediksi Harga PEPE untuk 30 Hari Ke Depan:\n",
      "2022-12-12: $0.00\n",
      "2022-12-13: $0.00\n",
      "2022-12-14: $0.00\n",
      "2022-12-15: $0.00\n",
      "2022-12-16: $0.00\n",
      "2022-12-17: $0.00\n",
      "2022-12-18: $0.00\n",
      "2022-12-19: $0.00\n",
      "2022-12-20: $0.00\n",
      "2022-12-21: $0.00\n",
      "2022-12-22: $0.00\n",
      "2022-12-23: $0.00\n",
      "2022-12-24: $0.00\n",
      "2022-12-25: $0.00\n",
      "2022-12-26: $0.00\n",
      "2022-12-27: $0.00\n",
      "2022-12-28: $0.00\n",
      "2022-12-29: $0.00\n",
      "2022-12-30: $0.00\n",
      "2022-12-31: $0.00\n",
      "2023-01-01: $0.00\n",
      "2023-01-02: $0.00\n",
      "2023-01-03: $0.00\n",
      "2023-01-04: $0.00\n",
      "2023-01-05: $0.00\n",
      "2023-01-06: $0.00\n",
      "2023-01-07: $0.00\n",
      "2023-01-08: $0.00\n",
      "2023-01-09: $0.00\n",
      "2023-01-10: $0.00\n"
     ]
    }
   ],
   "source": [
    "def predict_future_days(model, last_60_days, future_days=30):\n",
    "    future_prices = []\n",
    "    current_input = last_60_days.reshape(1, -1)\n",
    "    current_input = current_input.reshape((current_input.shape[0], current_input.shape[1], 1))\n",
    "    \n",
    "    for _ in range(future_days):\n",
    "        predicted_price = model.predict(current_input)\n",
    "        future_prices.append(predicted_price[0][0])\n",
    "        \n",
    "        # Update input untuk prediksi berikutnya\n",
    "        current_input = np.append(current_input[:, 1:, :], predicted_price.reshape(1, 1, 1), axis=1)\n",
    "\n",
    "    return future_prices\n",
    "\n",
    "# Mengambil data terakhir (60 hari terakhir)\n",
    "last_60_days = data_scaled[-60:]\n",
    "\n",
    "# Prediksi 30 hari ke depan\n",
    "predicted_future_prices = predict_future_days(model, last_60_days, future_days=30)\n",
    "\n",
    "# Mengembalikan prediksi ke skala asli\n",
    "predicted_future_prices = scaler.inverse_transform(np.array(predicted_future_prices).reshape(-1, 1))\n",
    "\n",
    "# Menampilkan hasil prediksi\n",
    "predicted_dates = pd.date_range(start=data.index[-1], periods=31, freq='D')[1:]\n",
    "\n",
    "plt.figure(figsize=(10,6))\n",
    "plt.plot(data.index, scaler.inverse_transform(data_scaled), color='blue', label='Harga Asli')\n",
    "plt.plot(predicted_dates, predicted_future_prices, color='red', label='Prediksi 30 Hari Ke Depan')\n",
    "plt.title('Prediksi Harga PEPE (Cryptocurrency) dengan LSTM (30 Hari Ke Depan)')\n",
    "plt.xlabel('Tanggal')\n",
    "plt.ylabel('Harga PEPE (USD)')\n",
    "plt.legend()\n",
    "plt.show()\n",
    "\n",
    "print(\"Prediksi Harga PEPE untuk 30 Hari Ke Depan:\")\n",
    "for date, price in zip(predicted_dates, predicted_future_prices):\n",
    "    print(f\"{date.date()}: ${price[0]:.2f}\")"
   ]
  }
 ],
 "metadata": {
  "kernelspec": {
   "display_name": "Python 3",
   "language": "python",
   "name": "python3"
  },
  "language_info": {
   "codemirror_mode": {
    "name": "ipython",
    "version": 3
   },
   "file_extension": ".py",
   "mimetype": "text/x-python",
   "name": "python",
   "nbconvert_exporter": "python",
   "pygments_lexer": "ipython3",
   "version": "3.8.2"
  }
 },
 "nbformat": 4,
 "nbformat_minor": 2
}
