{
 "cells": [
  {
   "cell_type": "markdown",
   "metadata": {},
   "source": [
    "## Import Libraries"
   ]
  },
  {
   "cell_type": "code",
   "execution_count": 1,
   "metadata": {},
   "outputs": [
    {
     "ename": "ModuleNotFoundError",
     "evalue": "No module named 'yfinance'",
     "output_type": "error",
     "traceback": [
      "\u001b[1;31m---------------------------------------------------------------------------\u001b[0m",
      "\u001b[1;31mModuleNotFoundError\u001b[0m                       Traceback (most recent call last)",
      "Cell \u001b[1;32mIn[1], line 4\u001b[0m\n\u001b[0;32m      2\u001b[0m \u001b[38;5;28;01mimport\u001b[39;00m \u001b[38;5;21;01mpandas\u001b[39;00m \u001b[38;5;28;01mas\u001b[39;00m \u001b[38;5;21;01mpd\u001b[39;00m\n\u001b[0;32m      3\u001b[0m \u001b[38;5;28;01mimport\u001b[39;00m \u001b[38;5;21;01mmatplotlib\u001b[39;00m\u001b[38;5;21;01m.\u001b[39;00m\u001b[38;5;21;01mpyplot\u001b[39;00m \u001b[38;5;28;01mas\u001b[39;00m \u001b[38;5;21;01mplt\u001b[39;00m\n\u001b[1;32m----> 4\u001b[0m \u001b[38;5;28;01mimport\u001b[39;00m \u001b[38;5;21;01myfinance\u001b[39;00m \u001b[38;5;28;01mas\u001b[39;00m \u001b[38;5;21;01myf\u001b[39;00m\n\u001b[0;32m      5\u001b[0m \u001b[38;5;28;01mfrom\u001b[39;00m \u001b[38;5;21;01msklearn\u001b[39;00m\u001b[38;5;21;01m.\u001b[39;00m\u001b[38;5;21;01mpreprocessing\u001b[39;00m \u001b[38;5;28;01mimport\u001b[39;00m MinMaxScaler\n\u001b[0;32m      6\u001b[0m \u001b[38;5;28;01mfrom\u001b[39;00m \u001b[38;5;21;01mtensorflow\u001b[39;00m\u001b[38;5;21;01m.\u001b[39;00m\u001b[38;5;21;01mkeras\u001b[39;00m\u001b[38;5;21;01m.\u001b[39;00m\u001b[38;5;21;01mmodels\u001b[39;00m \u001b[38;5;28;01mimport\u001b[39;00m Sequential\n",
      "\u001b[1;31mModuleNotFoundError\u001b[0m: No module named 'yfinance'"
     ]
    }
   ],
   "source": [
    "import numpy as np\n",
    "import pandas as pd\n",
    "import matplotlib.pyplot as plt\n",
    "import yfinance as yf\n",
    "from sklearn.preprocessing import MinMaxScaler\n",
    "from tensorflow.keras.models import Sequential\n",
    "from tensorflow.keras.layers import LSTM, Dense"
   ]
  },
  {
   "cell_type": "markdown",
   "metadata": {},
   "source": [
    "## 1. Mengambil Data Historis XRP (Ripple)"
   ]
  },
  {
   "cell_type": "code",
   "execution_count": 11,
   "metadata": {},
   "outputs": [
    {
     "name": "stderr",
     "output_type": "stream",
     "text": [
      "[*********************100%***********************]  1 of 1 completed\n"
     ]
    },
    {
     "data": {
      "text/html": [
       "<div>\n",
       "<style scoped>\n",
       "    .dataframe tbody tr th:only-of-type {\n",
       "        vertical-align: middle;\n",
       "    }\n",
       "\n",
       "    .dataframe tbody tr th {\n",
       "        vertical-align: top;\n",
       "    }\n",
       "\n",
       "    .dataframe thead tr th {\n",
       "        text-align: left;\n",
       "    }\n",
       "\n",
       "    .dataframe thead tr:last-of-type th {\n",
       "        text-align: right;\n",
       "    }\n",
       "</style>\n",
       "<table border=\"1\" class=\"dataframe\">\n",
       "  <thead>\n",
       "    <tr>\n",
       "      <th>Price</th>\n",
       "      <th>Adj Close</th>\n",
       "      <th>Close</th>\n",
       "      <th>High</th>\n",
       "      <th>Low</th>\n",
       "      <th>Open</th>\n",
       "      <th>Volume</th>\n",
       "    </tr>\n",
       "    <tr>\n",
       "      <th>Ticker</th>\n",
       "      <th>XRP-USD</th>\n",
       "      <th>XRP-USD</th>\n",
       "      <th>XRP-USD</th>\n",
       "      <th>XRP-USD</th>\n",
       "      <th>XRP-USD</th>\n",
       "      <th>XRP-USD</th>\n",
       "    </tr>\n",
       "    <tr>\n",
       "      <th>Date</th>\n",
       "      <th></th>\n",
       "      <th></th>\n",
       "      <th></th>\n",
       "      <th></th>\n",
       "      <th></th>\n",
       "      <th></th>\n",
       "    </tr>\n",
       "  </thead>\n",
       "  <tbody>\n",
       "    <tr>\n",
       "      <th>2017-11-09</th>\n",
       "      <td>0.217488</td>\n",
       "      <td>0.217488</td>\n",
       "      <td>0.221791</td>\n",
       "      <td>0.214866</td>\n",
       "      <td>0.217911</td>\n",
       "      <td>147916992</td>\n",
       "    </tr>\n",
       "    <tr>\n",
       "      <th>2017-11-10</th>\n",
       "      <td>0.206483</td>\n",
       "      <td>0.206483</td>\n",
       "      <td>0.219068</td>\n",
       "      <td>0.205260</td>\n",
       "      <td>0.218256</td>\n",
       "      <td>141032992</td>\n",
       "    </tr>\n",
       "    <tr>\n",
       "      <th>2017-11-11</th>\n",
       "      <td>0.210430</td>\n",
       "      <td>0.210430</td>\n",
       "      <td>0.214456</td>\n",
       "      <td>0.205459</td>\n",
       "      <td>0.205948</td>\n",
       "      <td>134503008</td>\n",
       "    </tr>\n",
       "    <tr>\n",
       "      <th>2017-11-12</th>\n",
       "      <td>0.197339</td>\n",
       "      <td>0.197339</td>\n",
       "      <td>0.210214</td>\n",
       "      <td>0.195389</td>\n",
       "      <td>0.210214</td>\n",
       "      <td>251175008</td>\n",
       "    </tr>\n",
       "    <tr>\n",
       "      <th>2017-11-13</th>\n",
       "      <td>0.203442</td>\n",
       "      <td>0.203442</td>\n",
       "      <td>0.204081</td>\n",
       "      <td>0.197456</td>\n",
       "      <td>0.197472</td>\n",
       "      <td>132567000</td>\n",
       "    </tr>\n",
       "  </tbody>\n",
       "</table>\n",
       "</div>"
      ],
      "text/plain": [
       "Price      Adj Close     Close      High       Low      Open     Volume\n",
       "Ticker       XRP-USD   XRP-USD   XRP-USD   XRP-USD   XRP-USD    XRP-USD\n",
       "Date                                                                   \n",
       "2017-11-09  0.217488  0.217488  0.221791  0.214866  0.217911  147916992\n",
       "2017-11-10  0.206483  0.206483  0.219068  0.205260  0.218256  141032992\n",
       "2017-11-11  0.210430  0.210430  0.214456  0.205459  0.205948  134503008\n",
       "2017-11-12  0.197339  0.197339  0.210214  0.195389  0.210214  251175008\n",
       "2017-11-13  0.203442  0.203442  0.204081  0.197456  0.197472  132567000"
      ]
     },
     "execution_count": 11,
     "metadata": {},
     "output_type": "execute_result"
    }
   ],
   "source": [
    "data = yf.download('XRP-USD', start='2015-01-01', end='2024-12-11')\n",
    "\n",
    "# Menampilkan data\n",
    "data.head()"
   ]
  },
  {
   "cell_type": "markdown",
   "metadata": {},
   "source": [
    "## 2. Preprocessing Data"
   ]
  },
  {
   "cell_type": "code",
   "execution_count": 12,
   "metadata": {},
   "outputs": [],
   "source": [
    "data_close = data['Close'].values\n",
    "data_close = data_close.reshape(-1, 1)\n",
    "\n",
    "# Normalisasi data\n",
    "scaler = MinMaxScaler(feature_range=(0, 1))\n",
    "data_scaled = scaler.fit_transform(data_close)\n",
    "\n",
    "# Membuat data latih dan data uji\n",
    "train_size = int(len(data_scaled) * 0.8)\n",
    "train_data, test_data = data_scaled[:train_size], data_scaled[train_size:]\n",
    "\n",
    "# Fungsi untuk membuat dataset dengan langkah waktu tertentu\n",
    "def create_dataset(data, time_step=60):\n",
    "    x, y = [], []\n",
    "    for i in range(len(data) - time_step - 1):\n",
    "        x.append(data[i:(i + time_step), 0])\n",
    "        y.append(data[i + time_step, 0])\n",
    "    return np.array(x), np.array(y)\n",
    "\n",
    "# Membuat data latih dan data uji\n",
    "time_step = 60\n",
    "x_train, y_train = create_dataset(train_data, time_step)\n",
    "x_test, y_test = create_dataset(test_data, time_step)\n",
    "\n",
    "# Reshaping data untuk input ke LSTM (batch_size, time_steps, features)\n",
    "x_train = x_train.reshape(x_train.shape[0], x_train.shape[1], 1)\n",
    "x_test = x_test.reshape(x_test.shape[0], x_test.shape[1], 1)"
   ]
  },
  {
   "cell_type": "markdown",
   "metadata": {},
   "source": [
    "## 3. Membangun Model LSTM"
   ]
  },
  {
   "cell_type": "code",
   "execution_count": 13,
   "metadata": {},
   "outputs": [],
   "source": [
    "model = Sequential()\n",
    "model.add(LSTM(units=50, return_sequences=True, input_shape=(x_train.shape[1], 1)))\n",
    "model.add(LSTM(units=50, return_sequences=False))\n",
    "model.add(Dense(units=1))"
   ]
  },
  {
   "cell_type": "markdown",
   "metadata": {},
   "source": [
    "## 4. Kompilasi Model"
   ]
  },
  {
   "cell_type": "code",
   "execution_count": 14,
   "metadata": {},
   "outputs": [],
   "source": [
    "model.compile(optimizer='adam', loss='mean_squared_error')"
   ]
  },
  {
   "cell_type": "markdown",
   "metadata": {},
   "source": [
    "## 5. Melatih Model"
   ]
  },
  {
   "cell_type": "code",
   "execution_count": 15,
   "metadata": {},
   "outputs": [
    {
     "name": "stdout",
     "output_type": "stream",
     "text": [
      "Epoch 1/10\n",
      "63/63 [==============================] - 4s 28ms/step - loss: 0.0020 - val_loss: 9.8944e-04\n",
      "Epoch 2/10\n",
      "63/63 [==============================] - 1s 22ms/step - loss: 7.5066e-04 - val_loss: 8.0852e-04\n",
      "Epoch 3/10\n",
      "63/63 [==============================] - 1s 23ms/step - loss: 6.0409e-04 - val_loss: 7.9637e-04\n",
      "Epoch 4/10\n",
      "63/63 [==============================] - 1s 23ms/step - loss: 5.3303e-04 - val_loss: 5.8334e-04\n",
      "Epoch 5/10\n",
      "63/63 [==============================] - 1s 23ms/step - loss: 4.6798e-04 - val_loss: 5.2402e-04\n",
      "Epoch 6/10\n",
      "63/63 [==============================] - 1s 22ms/step - loss: 4.4724e-04 - val_loss: 4.5244e-04\n",
      "Epoch 7/10\n",
      "63/63 [==============================] - 1s 22ms/step - loss: 4.3648e-04 - val_loss: 4.2367e-04\n",
      "Epoch 8/10\n",
      "63/63 [==============================] - 1s 22ms/step - loss: 3.5808e-04 - val_loss: 4.1957e-04\n",
      "Epoch 9/10\n",
      "63/63 [==============================] - 1s 22ms/step - loss: 3.4479e-04 - val_loss: 3.4256e-04\n",
      "Epoch 10/10\n",
      "63/63 [==============================] - 1s 22ms/step - loss: 3.3258e-04 - val_loss: 3.7783e-04\n"
     ]
    }
   ],
   "source": [
    "history = model.fit(x_train, y_train, epochs=10, batch_size=32, validation_data=(x_test, y_test))"
   ]
  },
  {
   "cell_type": "markdown",
   "metadata": {},
   "source": [
    "## 6. Prediksi Harga XRP ke Depan (30 Hari)"
   ]
  },
  {
   "cell_type": "code",
   "execution_count": 16,
   "metadata": {},
   "outputs": [
    {
     "name": "stdout",
     "output_type": "stream",
     "text": [
      "1/1 [==============================] - 0s 436ms/step\n",
      "1/1 [==============================] - 0s 17ms/step\n",
      "1/1 [==============================] - 0s 16ms/step\n",
      "1/1 [==============================] - 0s 16ms/step\n",
      "1/1 [==============================] - 0s 15ms/step\n",
      "1/1 [==============================] - 0s 19ms/step\n",
      "1/1 [==============================] - 0s 17ms/step\n",
      "1/1 [==============================] - 0s 16ms/step\n",
      "1/1 [==============================] - 0s 15ms/step\n",
      "1/1 [==============================] - 0s 17ms/step\n",
      "1/1 [==============================] - 0s 14ms/step\n",
      "1/1 [==============================] - 0s 14ms/step\n",
      "1/1 [==============================] - 0s 16ms/step\n",
      "1/1 [==============================] - 0s 15ms/step\n",
      "1/1 [==============================] - 0s 18ms/step\n",
      "1/1 [==============================] - 0s 17ms/step\n",
      "1/1 [==============================] - 0s 16ms/step\n",
      "1/1 [==============================] - 0s 17ms/step\n",
      "1/1 [==============================] - 0s 14ms/step\n",
      "1/1 [==============================] - 0s 16ms/step\n",
      "1/1 [==============================] - 0s 16ms/step\n",
      "1/1 [==============================] - 0s 16ms/step\n",
      "1/1 [==============================] - 0s 18ms/step\n",
      "1/1 [==============================] - 0s 17ms/step\n",
      "1/1 [==============================] - 0s 15ms/step\n",
      "1/1 [==============================] - 0s 15ms/step\n",
      "1/1 [==============================] - 0s 18ms/step\n",
      "1/1 [==============================] - 0s 16ms/step\n",
      "1/1 [==============================] - 0s 15ms/step\n",
      "1/1 [==============================] - 0s 18ms/step\n"
     ]
    },
    {
     "data": {
      "image/png": "[encoded data removed]",
      "text/plain": [
       "<Figure size 1000x600 with 1 Axes>"
      ]
     },
     "metadata": {},
     "output_type": "display_data"
    },
    {
     "name": "stdout",
     "output_type": "stream",
     "text": [
      "Prediksi Harga XRP untuk 30 Hari Ke Depan:\n",
      "2024-12-03: $1.90\n",
      "2024-12-04: $1.89\n",
      "2024-12-05: $1.84\n",
      "2024-12-06: $1.76\n",
      "2024-12-07: $1.68\n",
      "2024-12-08: $1.60\n",
      "2024-12-09: $1.52\n",
      "2024-12-10: $1.45\n",
      "2024-12-11: $1.39\n",
      "2024-12-12: $1.35\n",
      "2024-12-13: $1.30\n",
      "2024-12-14: $1.27\n",
      "2024-12-15: $1.24\n",
      "2024-12-16: $1.22\n",
      "2024-12-17: $1.20\n",
      "2024-12-18: $1.18\n",
      "2024-12-19: $1.17\n",
      "2024-12-20: $1.16\n",
      "2024-12-21: $1.15\n",
      "2024-12-22: $1.13\n",
      "2024-12-23: $1.12\n",
      "2024-12-24: $1.11\n",
      "2024-12-25: $1.10\n",
      "2024-12-26: $1.08\n",
      "2024-12-27: $1.07\n",
      "2024-12-28: $1.06\n",
      "2024-12-29: $1.04\n",
      "2024-12-30: $1.03\n",
      "2024-12-31: $1.02\n",
      "2025-01-01: $1.01\n"
     ]
    }
   ],
   "source": [
    "def predict_future_days(model, last_60_days, future_days=30):\n",
    "    future_prices = []\n",
    "    current_input = last_60_days.reshape(1, -1)\n",
    "    current_input = current_input.reshape((current_input.shape[0], current_input.shape[1], 1))\n",
    "    \n",
    "    for _ in range(future_days):\n",
    "        predicted_price = model.predict(current_input)\n",
    "        future_prices.append(predicted_price[0][0])\n",
    "        \n",
    "        # Update input untuk prediksi berikutnya\n",
    "        current_input = np.append(current_input[:, 1:, :], predicted_price.reshape(1, 1, 1), axis=1)\n",
    "\n",
    "    return future_prices\n",
    "\n",
    "# Mengambil data terakhir (60 hari terakhir)\n",
    "last_60_days = data_scaled[-60:]\n",
    "\n",
    "# Prediksi 30 hari ke depan\n",
    "predicted_future_prices = predict_future_days(model, last_60_days, future_days=30)\n",
    "\n",
    "# Mengembalikan prediksi ke skala asli\n",
    "predicted_future_prices = scaler.inverse_transform(np.array(predicted_future_prices).reshape(-1, 1))\n",
    "\n",
    "# Menampilkan hasil prediksi\n",
    "predicted_dates = pd.date_range(start=data.index[-1], periods=31, freq='D')[1:]\n",
    "\n",
    "plt.figure(figsize=(10,6))\n",
    "plt.plot(data.index, scaler.inverse_transform(data_scaled), color='blue', label='Harga Asli')\n",
    "plt.plot(predicted_dates, predicted_future_prices, color='red', label='Prediksi 30 Hari Ke Depan')\n",
    "plt.title('Prediksi Harga XRP (Ripple) dengan LSTM (30 Hari Ke Depan)')\n",
    "plt.xlabel('Tanggal')\n",
    "plt.ylabel('Harga XRP (USD)')\n",
    "plt.legend()\n",
    "plt.show()\n",
    "\n",
    "print(\"Prediksi Harga XRP untuk 30 Hari Ke Depan:\")\n",
    "for date, price in zip(predicted_dates, predicted_future_prices):\n",
    "    print(f\"{date.date()}: ${price[0]:.2f}\")"
   ]
  }
 ],
 "metadata": {
  "kernelspec": {
   "display_name": "Python 3",
   "language": "python",
   "name": "python3"
  },
  "language_info": {
   "codemirror_mode": {
    "name": "ipython",
    "version": 3
   },
   "file_extension": ".py",
   "mimetype": "text/x-python",
   "name": "python",
   "nbconvert_exporter": "python",
   "pygments_lexer": "ipython3",
   "version": "3.8.2"
  }
 },
 "nbformat": 4,
 "nbformat_minor": 2
}
