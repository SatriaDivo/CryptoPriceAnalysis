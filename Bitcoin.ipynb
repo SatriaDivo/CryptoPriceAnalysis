{
 "cells": [
  {
   "cell_type": "markdown",
   "metadata": {},
   "source": [
    "## Import Libraries"
   ]
  },
  {
   "cell_type": "code",
   "execution_count": 2,
   "metadata": {},
   "outputs": [
    {
     "ename": "ModuleNotFoundError",
     "evalue": "No module named 'yfinance'",
     "output_type": "error",
     "traceback": [
      "\u001b[1;31m---------------------------------------------------------------------------\u001b[0m",
      "\u001b[1;31mModuleNotFoundError\u001b[0m                       Traceback (most recent call last)",
      "Cell \u001b[1;32mIn[2], line 4\u001b[0m\n\u001b[0;32m      2\u001b[0m \u001b[38;5;28;01mimport\u001b[39;00m \u001b[38;5;21;01mpandas\u001b[39;00m \u001b[38;5;28;01mas\u001b[39;00m \u001b[38;5;21;01mpd\u001b[39;00m\n\u001b[0;32m      3\u001b[0m \u001b[38;5;28;01mimport\u001b[39;00m \u001b[38;5;21;01mmatplotlib\u001b[39;00m\u001b[38;5;21;01m.\u001b[39;00m\u001b[38;5;21;01mpyplot\u001b[39;00m \u001b[38;5;28;01mas\u001b[39;00m \u001b[38;5;21;01mplt\u001b[39;00m\n\u001b[1;32m----> 4\u001b[0m \u001b[38;5;28;01mimport\u001b[39;00m \u001b[38;5;21;01myfinance\u001b[39;00m \u001b[38;5;28;01mas\u001b[39;00m \u001b[38;5;21;01myf\u001b[39;00m\n\u001b[0;32m      5\u001b[0m \u001b[38;5;28;01mfrom\u001b[39;00m \u001b[38;5;21;01msklearn\u001b[39;00m\u001b[38;5;21;01m.\u001b[39;00m\u001b[38;5;21;01mpreprocessing\u001b[39;00m \u001b[38;5;28;01mimport\u001b[39;00m MinMaxScaler\n\u001b[0;32m      6\u001b[0m \u001b[38;5;28;01mfrom\u001b[39;00m \u001b[38;5;21;01mtensorflow\u001b[39;00m\u001b[38;5;21;01m.\u001b[39;00m\u001b[38;5;21;01mkeras\u001b[39;00m\u001b[38;5;21;01m.\u001b[39;00m\u001b[38;5;21;01mmodels\u001b[39;00m \u001b[38;5;28;01mimport\u001b[39;00m Sequential\n",
      "\u001b[1;31mModuleNotFoundError\u001b[0m: No module named 'yfinance'"
     ]
    }
   ],
   "source": [
    "import numpy as np\n",
    "import pandas as pd\n",
    "import matplotlib.pyplot as plt\n",
    "import yfinance as yf\n",
    "from sklearn.preprocessing import MinMaxScaler\n",
    "from tensorflow.keras.models import Sequential\n",
    "from tensorflow.keras.layers import LSTM, Dense"
   ]
  },
  {
   "cell_type": "markdown",
   "metadata": {},
   "source": [
    "## 1. Mengambil Data Historis Bitcoin"
   ]
  },
  {
   "cell_type": "code",
   "execution_count": 4,
   "metadata": {},
   "outputs": [
    {
     "name": "stderr",
     "output_type": "stream",
     "text": [
      "[*********************100%***********************]  1 of 1 completed\n"
     ]
    },
    {
     "data": {
      "text/html": [
       "<div>\n",
       "<style scoped>\n",
       "    .dataframe tbody tr th:only-of-type {\n",
       "        vertical-align: middle;\n",
       "    }\n",
       "\n",
       "    .dataframe tbody tr th {\n",
       "        vertical-align: top;\n",
       "    }\n",
       "\n",
       "    .dataframe thead tr th {\n",
       "        text-align: left;\n",
       "    }\n",
       "\n",
       "    .dataframe thead tr:last-of-type th {\n",
       "        text-align: right;\n",
       "    }\n",
       "</style>\n",
       "<table border=\"1\" class=\"dataframe\">\n",
       "  <thead>\n",
       "    <tr>\n",
       "      <th>Price</th>\n",
       "      <th>Adj Close</th>\n",
       "      <th>Close</th>\n",
       "      <th>High</th>\n",
       "      <th>Low</th>\n",
       "      <th>Open</th>\n",
       "      <th>Volume</th>\n",
       "    </tr>\n",
       "    <tr>\n",
       "      <th>Ticker</th>\n",
       "      <th>BTC-USD</th>\n",
       "      <th>BTC-USD</th>\n",
       "      <th>BTC-USD</th>\n",
       "      <th>BTC-USD</th>\n",
       "      <th>BTC-USD</th>\n",
       "      <th>BTC-USD</th>\n",
       "    </tr>\n",
       "    <tr>\n",
       "      <th>Date</th>\n",
       "      <th></th>\n",
       "      <th></th>\n",
       "      <th></th>\n",
       "      <th></th>\n",
       "      <th></th>\n",
       "      <th></th>\n",
       "    </tr>\n",
       "  </thead>\n",
       "  <tbody>\n",
       "    <tr>\n",
       "      <th>2015-01-01</th>\n",
       "      <td>314.248993</td>\n",
       "      <td>314.248993</td>\n",
       "      <td>320.434998</td>\n",
       "      <td>314.002991</td>\n",
       "      <td>320.434998</td>\n",
       "      <td>8036550</td>\n",
       "    </tr>\n",
       "    <tr>\n",
       "      <th>2015-01-02</th>\n",
       "      <td>315.032013</td>\n",
       "      <td>315.032013</td>\n",
       "      <td>315.838989</td>\n",
       "      <td>313.565002</td>\n",
       "      <td>314.079010</td>\n",
       "      <td>7860650</td>\n",
       "    </tr>\n",
       "    <tr>\n",
       "      <th>2015-01-03</th>\n",
       "      <td>281.082001</td>\n",
       "      <td>281.082001</td>\n",
       "      <td>315.149994</td>\n",
       "      <td>281.082001</td>\n",
       "      <td>314.846008</td>\n",
       "      <td>33054400</td>\n",
       "    </tr>\n",
       "    <tr>\n",
       "      <th>2015-01-04</th>\n",
       "      <td>264.195007</td>\n",
       "      <td>264.195007</td>\n",
       "      <td>287.230011</td>\n",
       "      <td>257.612000</td>\n",
       "      <td>281.145996</td>\n",
       "      <td>55629100</td>\n",
       "    </tr>\n",
       "    <tr>\n",
       "      <th>2015-01-05</th>\n",
       "      <td>274.473999</td>\n",
       "      <td>274.473999</td>\n",
       "      <td>278.341003</td>\n",
       "      <td>265.084015</td>\n",
       "      <td>265.084015</td>\n",
       "      <td>43962800</td>\n",
       "    </tr>\n",
       "  </tbody>\n",
       "</table>\n",
       "</div>"
      ],
      "text/plain": [
       "Price        Adj Close       Close        High         Low        Open  \\\n",
       "Ticker         BTC-USD     BTC-USD     BTC-USD     BTC-USD     BTC-USD   \n",
       "Date                                                                     \n",
       "2015-01-01  314.248993  314.248993  320.434998  314.002991  320.434998   \n",
       "2015-01-02  315.032013  315.032013  315.838989  313.565002  314.079010   \n",
       "2015-01-03  281.082001  281.082001  315.149994  281.082001  314.846008   \n",
       "2015-01-04  264.195007  264.195007  287.230011  257.612000  281.145996   \n",
       "2015-01-05  274.473999  274.473999  278.341003  265.084015  265.084015   \n",
       "\n",
       "Price         Volume  \n",
       "Ticker       BTC-USD  \n",
       "Date                  \n",
       "2015-01-01   8036550  \n",
       "2015-01-02   7860650  \n",
       "2015-01-03  33054400  \n",
       "2015-01-04  55629100  \n",
       "2015-01-05  43962800  "
      ]
     },
     "execution_count": 4,
     "metadata": {},
     "output_type": "execute_result"
    }
   ],
   "source": [
    "data = yf.download('BTC-USD', start='2015-01-01', end='2024-12-01')\n",
    "\n",
    "# Menampilkan data\n",
    "data.head()"
   ]
  },
  {
   "cell_type": "markdown",
   "metadata": {},
   "source": [
    "## 2. Preprocessing Data"
   ]
  },
  {
   "cell_type": "code",
   "execution_count": 5,
   "metadata": {},
   "outputs": [],
   "source": [
    "# Mengambil hanya harga penutupan\n",
    "data_close = data['Close'].values\n",
    "data_close = data_close.reshape(-1, 1)\n",
    "\n",
    "# Normalisasi data\n",
    "scaler = MinMaxScaler(feature_range=(0, 1))\n",
    "data_scaled = scaler.fit_transform(data_close)\n",
    "\n",
    "# Membuat data latih dan data uji\n",
    "train_size = int(len(data_scaled) * 0.8)\n",
    "train_data, test_data = data_scaled[:train_size], data_scaled[train_size:]\n",
    "\n",
    "# Fungsi untuk membuat dataset dengan langkah waktu tertentu\n",
    "def create_dataset(data, time_step=60):\n",
    "    x, y = [], []\n",
    "    for i in range(len(data) - time_step - 1):\n",
    "        x.append(data[i:(i + time_step), 0])\n",
    "        y.append(data[i + time_step, 0])\n",
    "    return np.array(x), np.array(y)\n",
    "\n",
    "# Membuat data latih dan data uji\n",
    "time_step = 60\n",
    "x_train, y_train = create_dataset(train_data, time_step)\n",
    "x_test, y_test = create_dataset(test_data, time_step)\n",
    "\n",
    "# Reshaping data untuk input ke LSTM (batch_size, time_steps, features)\n",
    "x_train = x_train.reshape(x_train.shape[0], x_train.shape[1], 1)\n",
    "x_test = x_test.reshape(x_test.shape[0], x_test.shape[1], 1)"
   ]
  },
  {
   "cell_type": "markdown",
   "metadata": {},
   "source": [
    "## 3. Membangun Model LSTM"
   ]
  },
  {
   "cell_type": "code",
   "execution_count": 6,
   "metadata": {},
   "outputs": [],
   "source": [
    "model = Sequential()\n",
    "\n",
    "# Menambahkan layer LSTM\n",
    "model.add(LSTM(units=50, return_sequences=True, input_shape=(x_train.shape[1], 1)))\n",
    "model.add(LSTM(units=50, return_sequences=False))\n",
    "\n",
    "# Menambahkan layer Dense\n",
    "model.add(Dense(units=1))"
   ]
  },
  {
   "cell_type": "markdown",
   "metadata": {},
   "source": [
    "## 4. Kompilasi Model"
   ]
  },
  {
   "cell_type": "code",
   "execution_count": 7,
   "metadata": {},
   "outputs": [],
   "source": [
    "model.compile(optimizer='adam', loss='mean_squared_error')"
   ]
  },
  {
   "cell_type": "markdown",
   "metadata": {},
   "source": [
    "## 5. Melatih Model"
   ]
  },
  {
   "cell_type": "code",
   "execution_count": 8,
   "metadata": {},
   "outputs": [
    {
     "name": "stdout",
     "output_type": "stream",
     "text": [
      "Epoch 1/10\n",
      "89/89 [==============================] - 4s 28ms/step - loss: 0.0042 - val_loss: 0.0016\n",
      "Epoch 2/10\n",
      "89/89 [==============================] - 2s 22ms/step - loss: 3.6734e-04 - val_loss: 0.0017\n",
      "Epoch 3/10\n",
      "89/89 [==============================] - 2s 22ms/step - loss: 3.3915e-04 - val_loss: 8.3167e-04\n",
      "Epoch 4/10\n",
      "89/89 [==============================] - 2s 22ms/step - loss: 3.1298e-04 - val_loss: 9.0715e-04\n",
      "Epoch 5/10\n",
      "89/89 [==============================] - 2s 21ms/step - loss: 2.8896e-04 - val_loss: 8.9103e-04\n",
      "Epoch 6/10\n",
      "89/89 [==============================] - 2s 22ms/step - loss: 2.6831e-04 - val_loss: 0.0014\n",
      "Epoch 7/10\n",
      "89/89 [==============================] - 2s 21ms/step - loss: 2.3286e-04 - val_loss: 0.0010\n",
      "Epoch 8/10\n",
      "89/89 [==============================] - 2s 22ms/step - loss: 2.1305e-04 - val_loss: 5.5165e-04\n",
      "Epoch 9/10\n",
      "89/89 [==============================] - 2s 22ms/step - loss: 2.0639e-04 - val_loss: 6.3114e-04\n",
      "Epoch 10/10\n",
      "89/89 [==============================] - 2s 22ms/step - loss: 1.8239e-04 - val_loss: 5.3074e-04\n"
     ]
    }
   ],
   "source": [
    "history = model.fit(x_train, y_train, epochs=10, batch_size=32, validation_data=(x_test, y_test))"
   ]
  },
  {
   "cell_type": "markdown",
   "metadata": {},
   "source": [
    "## 6. Evaluasi Model"
   ]
  },
  {
   "cell_type": "code",
   "execution_count": 11,
   "metadata": {},
   "outputs": [
    {
     "name": "stdout",
     "output_type": "stream",
     "text": [
      "1/1 [==============================] - 0s 17ms/step\n",
      "1/1 [==============================] - 0s 17ms/step\n",
      "1/1 [==============================] - 0s 17ms/step\n",
      "1/1 [==============================] - 0s 25ms/step\n",
      "1/1 [==============================] - 0s 16ms/step\n",
      "1/1 [==============================] - 0s 16ms/step\n",
      "1/1 [==============================] - 0s 18ms/step\n",
      "1/1 [==============================] - 0s 17ms/step\n",
      "1/1 [==============================] - 0s 15ms/step\n",
      "1/1 [==============================] - 0s 17ms/step\n",
      "1/1 [==============================] - 0s 16ms/step\n",
      "1/1 [==============================] - 0s 16ms/step\n",
      "1/1 [==============================] - 0s 16ms/step\n",
      "1/1 [==============================] - 0s 17ms/step\n",
      "1/1 [==============================] - 0s 17ms/step\n",
      "1/1 [==============================] - 0s 17ms/step\n",
      "1/1 [==============================] - 0s 16ms/step\n",
      "1/1 [==============================] - 0s 17ms/step\n",
      "1/1 [==============================] - 0s 17ms/step\n",
      "1/1 [==============================] - 0s 16ms/step\n",
      "1/1 [==============================] - 0s 16ms/step\n",
      "1/1 [==============================] - 0s 18ms/step\n",
      "1/1 [==============================] - 0s 20ms/step\n",
      "1/1 [==============================] - 0s 18ms/step\n",
      "1/1 [==============================] - 0s 17ms/step\n",
      "1/1 [==============================] - 0s 16ms/step\n",
      "1/1 [==============================] - 0s 19ms/step\n",
      "1/1 [==============================] - 0s 17ms/step\n",
      "1/1 [==============================] - 0s 21ms/step\n",
      "1/1 [==============================] - 0s 18ms/step\n"
     ]
    },
    {
     "data": {
      "image/png": "[encoded data removed]",
      "text/plain": [
       "<Figure size 1000x600 with 1 Axes>"
      ]
     },
     "metadata": {},
     "output_type": "display_data"
    },
    {
     "name": "stdout",
     "output_type": "stream",
     "text": [
      "Prediksi Harga Bitcoin untuk 30 Hari Ke Depan:\n",
      "2024-12-01: $89938.78\n",
      "2024-12-02: $88931.09\n",
      "2024-12-03: $87326.92\n",
      "2024-12-04: $85407.17\n",
      "2024-12-05: $83336.67\n",
      "2024-12-06: $81219.34\n",
      "2024-12-07: $79123.46\n",
      "2024-12-08: $77095.45\n",
      "2024-12-09: $75167.41\n",
      "2024-12-10: $73361.30\n",
      "2024-12-11: $71691.37\n",
      "2024-12-12: $70165.57\n",
      "2024-12-13: $68786.74\n",
      "2024-12-14: $67553.48\n",
      "2024-12-15: $66460.98\n",
      "2024-12-16: $65501.86\n",
      "2024-12-17: $64666.75\n",
      "2024-12-18: $63945.03\n",
      "2024-12-19: $63325.22\n",
      "2024-12-20: $62795.61\n",
      "2024-12-21: $62344.51\n",
      "2024-12-22: $61960.57\n",
      "2024-12-23: $61633.10\n",
      "2024-12-24: $61352.12\n",
      "2024-12-25: $61108.58\n",
      "2024-12-26: $60894.36\n",
      "2024-12-27: $60702.32\n",
      "2024-12-28: $60526.46\n",
      "2024-12-29: $60361.57\n",
      "2024-12-30: $60203.45\n"
     ]
    }
   ],
   "source": [
    "def predict_future_days(model, last_60_days, future_days=30):\n",
    "    future_prices = []\n",
    "    current_input = last_60_days.reshape(1, -1)\n",
    "    current_input = current_input.reshape((current_input.shape[0], current_input.shape[1], 1))\n",
    "    \n",
    "    for _ in range(future_days):\n",
    "        predicted_price = model.predict(current_input)\n",
    "        future_prices.append(predicted_price[0][0])\n",
    "        \n",
    "        # Update input untuk prediksi berikutnya\n",
    "        current_input = np.append(current_input[:, 1:, :], predicted_price.reshape(1, 1, 1), axis=1)\n",
    "\n",
    "    return future_prices\n",
    "\n",
    "# Mengambil data terakhir (60 hari terakhir)\n",
    "last_60_days = data_scaled[-60:]\n",
    "\n",
    "# Prediksi 30 hari ke depan\n",
    "predicted_future_prices = predict_future_days(model, last_60_days, future_days=30)\n",
    "\n",
    "# Mengembalikan prediksi ke skala asli\n",
    "predicted_future_prices = scaler.inverse_transform(np.array(predicted_future_prices).reshape(-1, 1))\n",
    "\n",
    "# Menampilkan hasil prediksi\n",
    "predicted_dates = pd.date_range(start=data.index[-1], periods=31, freq='D')[1:]\n",
    "\n",
    "plt.figure(figsize=(10,6))\n",
    "plt.plot(data.index, scaler.inverse_transform(data_scaled), color='blue', label='Harga Asli')\n",
    "plt.plot(predicted_dates, predicted_future_prices, color='red', label='Prediksi 30 Hari Ke Depan')\n",
    "plt.title('Prediksi Harga Bitcoin dengan LSTM (30 Hari Ke Depan)')\n",
    "plt.xlabel('Tanggal')\n",
    "plt.ylabel('Harga Bitcoin (USD)')\n",
    "plt.legend()\n",
    "plt.show()\n",
    "\n",
    "print(\"Prediksi Harga Bitcoin untuk 30 Hari Ke Depan:\")\n",
    "for date, price in zip(predicted_dates, predicted_future_prices):\n",
    "    print(f\"{date.date()}: ${price[0]:.2f}\")"
   ]
  },
  {
   "cell_type": "markdown",
   "metadata": {},
   "source": [
    "## 7. Prediksi Harga Bitcoin ke Depan"
   ]
  },
  {
   "cell_type": "code",
   "execution_count": 10,
   "metadata": {},
   "outputs": [
    {
     "name": "stdout",
     "output_type": "stream",
     "text": [
      "1/1 [==============================] - 0s 21ms/step\n",
      "Prediksi harga Bitcoin untuk hari berikutnya: $89938.78\n"
     ]
    }
   ],
   "source": [
    "last_60_days = data_scaled[-60:].reshape(1, -1)\n",
    "last_60_days = last_60_days.reshape((last_60_days.shape[0], last_60_days.shape[1], 1))\n",
    "predicted_price = model.predict(last_60_days)\n",
    "predicted_price = scaler.inverse_transform(predicted_price)\n",
    "print(f'Prediksi harga Bitcoin untuk hari berikutnya: ${predicted_price[0][0]:.2f}')"
   ]
  }
 ],
 "metadata": {
  "kernelspec": {
   "display_name": "Python 3",
   "language": "python",
   "name": "python3"
  },
  "language_info": {
   "codemirror_mode": {
    "name": "ipython",
    "version": 3
   },
   "file_extension": ".py",
   "mimetype": "text/x-python",
   "name": "python",
   "nbconvert_exporter": "python",
   "pygments_lexer": "ipython3",
   "version": "3.8.2"
  }
 },
 "nbformat": 4,
 "nbformat_minor": 2
}
